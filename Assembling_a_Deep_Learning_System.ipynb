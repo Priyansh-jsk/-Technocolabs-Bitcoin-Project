{
  "nbformat": 4,
  "nbformat_minor": 0,
  "metadata": {
    "kernelspec": {
      "display_name": "Python 3",
      "language": "python",
      "name": "python3"
    },
    "language_info": {
      "codemirror_mode": {
        "name": "ipython",
        "version": 3
      },
      "file_extension": ".py",
      "mimetype": "text/x-python",
      "name": "python",
      "nbconvert_exporter": "python",
      "pygments_lexer": "ipython3",
      "version": "3.6.6"
    },
    "colab": {
      "name": "Assembling_a_Deep_Learning_System.ipynb",
      "provenance": [],
      "collapsed_sections": [],
      "toc_visible": true
    }
  },
  "cells": [
    {
      "cell_type": "markdown",
      "metadata": {
        "id": "kcu6edDUAcg5"
      },
      "source": [
        "# Activity 5: Assembling a Deep Learning System\n",
        "In this activity, we will train the first version of our LSTM model using Bitcoin daily closing prices. These prices will be organized using the weeks of both 2016 and 2017. We do that because we are interested in predicting the prices of a week's worth of trading."
      ]
    },
    {
      "cell_type": "code",
      "metadata": {
        "id": "Hb9FeCf1Acg9",
        "colab": {
          "base_uri": "https://localhost:8080/",
          "height": 34
        },
        "outputId": "c9544e58-913f-459e-978c-4c22de032a1d"
      },
      "source": [
        "%autosave 5\n",
        "\n",
        "#  Import necessary libraries\n",
        "import numpy as np\n",
        "import pandas as pd\n",
        "import matplotlib.pyplot as plt\n",
        "%matplotlib inline\n",
        "plt.style.use('seaborn-white')\n",
        "\n",
        "from keras.models import load_model"
      ],
      "execution_count": 1,
      "outputs": [
        {
          "output_type": "display_data",
          "data": {
            "application/javascript": [
              "IPython.notebook.set_autosave_interval(5000)"
            ]
          },
          "metadata": {
            "tags": []
          }
        },
        {
          "output_type": "stream",
          "text": [
            "Autosaving every 5 seconds\n"
          ],
          "name": "stdout"
        }
      ]
    },
    {
      "cell_type": "code",
      "metadata": {
        "id": "KChblYHmAchZ",
        "colab": {
          "base_uri": "https://localhost:8080/",
          "height": 195
        },
        "outputId": "71192e39-b033-485c-abfc-f62147317a09"
      },
      "source": [
        "#  Import training dataset\n",
        "train = pd.read_csv('/content/train_dataset.csv - train_dataset.csv.csv')\n",
        "train.head()"
      ],
      "execution_count": 3,
      "outputs": [
        {
          "output_type": "execute_result",
          "data": {
            "text/html": [
              "<div>\n",
              "<style scoped>\n",
              "    .dataframe tbody tr th:only-of-type {\n",
              "        vertical-align: middle;\n",
              "    }\n",
              "\n",
              "    .dataframe tbody tr th {\n",
              "        vertical-align: top;\n",
              "    }\n",
              "\n",
              "    .dataframe thead th {\n",
              "        text-align: right;\n",
              "    }\n",
              "</style>\n",
              "<table border=\"1\" class=\"dataframe\">\n",
              "  <thead>\n",
              "    <tr style=\"text-align: right;\">\n",
              "      <th></th>\n",
              "      <th>date</th>\n",
              "      <th>iso_week</th>\n",
              "      <th>close</th>\n",
              "      <th>volume</th>\n",
              "      <th>close_point_relative_normalization</th>\n",
              "      <th>volume_point_relative_normalization</th>\n",
              "    </tr>\n",
              "  </thead>\n",
              "  <tbody>\n",
              "    <tr>\n",
              "      <th>0</th>\n",
              "      <td>2016-01-01</td>\n",
              "      <td>2016-00</td>\n",
              "      <td>434.33</td>\n",
              "      <td>36278900</td>\n",
              "      <td>0.000000</td>\n",
              "      <td>0.000000</td>\n",
              "    </tr>\n",
              "    <tr>\n",
              "      <th>1</th>\n",
              "      <td>2016-01-02</td>\n",
              "      <td>2016-00</td>\n",
              "      <td>433.44</td>\n",
              "      <td>30096600</td>\n",
              "      <td>-0.002049</td>\n",
              "      <td>-0.170410</td>\n",
              "    </tr>\n",
              "    <tr>\n",
              "      <th>2</th>\n",
              "      <td>2016-01-03</td>\n",
              "      <td>2016-01</td>\n",
              "      <td>430.01</td>\n",
              "      <td>39633800</td>\n",
              "      <td>0.000000</td>\n",
              "      <td>0.000000</td>\n",
              "    </tr>\n",
              "    <tr>\n",
              "      <th>3</th>\n",
              "      <td>2016-01-04</td>\n",
              "      <td>2016-01</td>\n",
              "      <td>433.09</td>\n",
              "      <td>38477500</td>\n",
              "      <td>0.007163</td>\n",
              "      <td>-0.029175</td>\n",
              "    </tr>\n",
              "    <tr>\n",
              "      <th>4</th>\n",
              "      <td>2016-01-05</td>\n",
              "      <td>2016-01</td>\n",
              "      <td>431.96</td>\n",
              "      <td>34522600</td>\n",
              "      <td>0.004535</td>\n",
              "      <td>-0.128961</td>\n",
              "    </tr>\n",
              "  </tbody>\n",
              "</table>\n",
              "</div>"
            ],
            "text/plain": [
              "         date  ... volume_point_relative_normalization\n",
              "0  2016-01-01  ...                            0.000000\n",
              "1  2016-01-02  ...                           -0.170410\n",
              "2  2016-01-03  ...                            0.000000\n",
              "3  2016-01-04  ...                           -0.029175\n",
              "4  2016-01-05  ...                           -0.128961\n",
              "\n",
              "[5 rows x 6 columns]"
            ]
          },
          "metadata": {
            "tags": []
          },
          "execution_count": 3
        }
      ]
    },
    {
      "cell_type": "markdown",
      "metadata": {
        "id": "HEvbVuAiAch_"
      },
      "source": [
        "## Reshape Data"
      ]
    },
    {
      "cell_type": "code",
      "metadata": {
        "id": "kl_3etZ3AciD"
      },
      "source": [
        "def create_groups(data, group_size=7):\n",
        "    \"\"\"Create distinct groups from a continuous series.\n",
        "    \n",
        "    Parameters\n",
        "    ----------\n",
        "    data: np.array\n",
        "        Series of continious observations.\n",
        "\n",
        "    group_size: int, default 7\n",
        "        Determines how large the groups are. That is,\n",
        "        how many observations each group contains.\n",
        "    \n",
        "    Returns\n",
        "    -------\n",
        "    A Numpy array object. \n",
        "    \"\"\"\n",
        "    samples = []\n",
        "    for i in range(0, len(data), group_size):\n",
        "        sample = list(data[i:i + group_size])\n",
        "        if len(sample) == group_size:\n",
        "            samples.append(np.array(sample).reshape(1, group_size))\n",
        "    \n",
        "    return np.array(samples)"
      ],
      "execution_count": 4,
      "outputs": []
    },
    {
      "cell_type": "code",
      "metadata": {
        "id": "oHrevtZdAciU",
        "colab": {
          "base_uri": "https://localhost:8080/"
        },
        "outputId": "e25ca85f-8a5e-465f-b8e7-cc3fe4265d8e"
      },
      "source": [
        "#  Find the remainder when the number of observations is divided by group size\n",
        "len(train) % 7"
      ],
      "execution_count": 5,
      "outputs": [
        {
          "output_type": "execute_result",
          "data": {
            "text/plain": [
              "2"
            ]
          },
          "metadata": {
            "tags": []
          },
          "execution_count": 5
        }
      ]
    },
    {
      "cell_type": "code",
      "metadata": {
        "id": "KbnI--T2Acij",
        "colab": {
          "base_uri": "https://localhost:8080/"
        },
        "outputId": "7f59ab06-3963-4f6f-8774-58d324788027"
      },
      "source": [
        "#  Create groups of 7 from our data.\n",
        "#  We drop the first two observations so that the\n",
        "#  number of total observations is divisible by the `group_size`.\n",
        "data = create_groups(train['close_point_relative_normalization'][2:].values)\n",
        "print(data.shape)"
      ],
      "execution_count": 6,
      "outputs": [
        {
          "output_type": "stream",
          "text": [
            "(77, 1, 7)\n"
          ],
          "name": "stdout"
        }
      ]
    },
    {
      "cell_type": "code",
      "metadata": {
        "id": "lEJvRBdjAci9",
        "colab": {
          "base_uri": "https://localhost:8080/"
        },
        "outputId": "2b50c2e6-31ab-4f51-b5b9-12623acd650a"
      },
      "source": [
        "#  Reshape data into format expected by LSTM layer\n",
        "X_train = data[:-1, :].reshape(1, 76, 7)\n",
        "Y_validation = data[-1].reshape(1, 7)\n",
        "print(X_train.shape)\n",
        "print(Y_validation.shape)"
      ],
      "execution_count": 7,
      "outputs": [
        {
          "output_type": "stream",
          "text": [
            "(1, 76, 7)\n",
            "(1, 7)\n"
          ],
          "name": "stdout"
        }
      ]
    },
    {
      "cell_type": "markdown",
      "metadata": {
        "id": "W7yy0zvHAcjO"
      },
      "source": [
        "## Load Our Model"
      ]
    },
    {
      "cell_type": "code",
      "metadata": {
        "id": "Z6EDopFTAcjQ"
      },
      "source": [
        "#  Load our previously trained model \n",
        "model = load_model('/content/bitcoin_lstm_v0.h5')"
      ],
      "execution_count": 9,
      "outputs": []
    },
    {
      "cell_type": "markdown",
      "metadata": {
        "id": "_ySUtdf-Acjf"
      },
      "source": [
        "## Train model"
      ]
    },
    {
      "cell_type": "code",
      "metadata": {
        "scrolled": true,
        "id": "w9SPl12HAcjh",
        "colab": {
          "base_uri": "https://localhost:8080/"
        },
        "outputId": "227904f8-d728-4d5a-c843-6a7fda226ccc"
      },
      "source": [
        "%%time\n",
        "#  Train the model\n",
        "history = model.fit(\n",
        "    x=X_train, y=Y_validation,\n",
        "    batch_size=32, epochs=100)"
      ],
      "execution_count": 10,
      "outputs": [
        {
          "output_type": "stream",
          "text": [
            "Epoch 1/100\n",
            "1/1 [==============================] - 0s 4ms/step - loss: 0.0024\n",
            "Epoch 2/100\n",
            "1/1 [==============================] - 0s 2ms/step - loss: 0.0019\n",
            "Epoch 3/100\n",
            "1/1 [==============================] - 0s 1ms/step - loss: 0.0016\n",
            "Epoch 4/100\n",
            "1/1 [==============================] - 0s 1ms/step - loss: 0.0014\n",
            "Epoch 5/100\n",
            "1/1 [==============================] - 0s 2ms/step - loss: 0.0012\n",
            "Epoch 6/100\n",
            "1/1 [==============================] - 0s 2ms/step - loss: 0.0011\n",
            "Epoch 7/100\n",
            "1/1 [==============================] - 0s 2ms/step - loss: 9.4825e-04\n",
            "Epoch 8/100\n",
            "1/1 [==============================] - 0s 2ms/step - loss: 8.3270e-04\n",
            "Epoch 9/100\n",
            "1/1 [==============================] - 0s 4ms/step - loss: 7.3157e-04\n",
            "Epoch 10/100\n",
            "1/1 [==============================] - 0s 2ms/step - loss: 6.4272e-04\n",
            "Epoch 11/100\n",
            "1/1 [==============================] - 0s 1ms/step - loss: 5.6445e-04\n",
            "Epoch 12/100\n",
            "1/1 [==============================] - 0s 2ms/step - loss: 4.9539e-04\n",
            "Epoch 13/100\n",
            "1/1 [==============================] - 0s 1ms/step - loss: 4.3437e-04\n",
            "Epoch 14/100\n",
            "1/1 [==============================] - 0s 2ms/step - loss: 3.8040e-04\n",
            "Epoch 15/100\n",
            "1/1 [==============================] - 0s 2ms/step - loss: 3.3262e-04\n",
            "Epoch 16/100\n",
            "1/1 [==============================] - 0s 1ms/step - loss: 2.9027e-04\n",
            "Epoch 17/100\n",
            "1/1 [==============================] - 0s 2ms/step - loss: 2.5271e-04\n",
            "Epoch 18/100\n",
            "1/1 [==============================] - 0s 2ms/step - loss: 2.1938e-04\n",
            "Epoch 19/100\n",
            "1/1 [==============================] - 0s 2ms/step - loss: 1.8981e-04\n",
            "Epoch 20/100\n",
            "1/1 [==============================] - 0s 1ms/step - loss: 1.6360e-04\n",
            "Epoch 21/100\n",
            "1/1 [==============================] - 0s 1ms/step - loss: 1.4038e-04\n",
            "Epoch 22/100\n",
            "1/1 [==============================] - 0s 1ms/step - loss: 1.1986e-04\n",
            "Epoch 23/100\n",
            "1/1 [==============================] - 0s 1ms/step - loss: 1.0179e-04\n",
            "Epoch 24/100\n",
            "1/1 [==============================] - 0s 2ms/step - loss: 8.5911e-05\n",
            "Epoch 25/100\n",
            "1/1 [==============================] - 0s 3ms/step - loss: 7.2032e-05\n",
            "Epoch 26/100\n",
            "1/1 [==============================] - 0s 1ms/step - loss: 5.9957e-05\n",
            "Epoch 27/100\n",
            "1/1 [==============================] - 0s 2ms/step - loss: 4.9511e-05\n",
            "Epoch 28/100\n",
            "1/1 [==============================] - 0s 2ms/step - loss: 4.0535e-05\n",
            "Epoch 29/100\n",
            "1/1 [==============================] - 0s 2ms/step - loss: 3.2876e-05\n",
            "Epoch 30/100\n",
            "1/1 [==============================] - 0s 1ms/step - loss: 2.6395e-05\n",
            "Epoch 31/100\n",
            "1/1 [==============================] - 0s 3ms/step - loss: 2.0958e-05\n",
            "Epoch 32/100\n",
            "1/1 [==============================] - 0s 2ms/step - loss: 1.6444e-05\n",
            "Epoch 33/100\n",
            "1/1 [==============================] - 0s 2ms/step - loss: 1.2735e-05\n",
            "Epoch 34/100\n",
            "1/1 [==============================] - 0s 1ms/step - loss: 9.7257e-06\n",
            "Epoch 35/100\n",
            "1/1 [==============================] - 0s 1ms/step - loss: 7.3161e-06\n",
            "Epoch 36/100\n",
            "1/1 [==============================] - 0s 1ms/step - loss: 5.4195e-06\n",
            "Epoch 37/100\n",
            "1/1 [==============================] - 0s 1ms/step - loss: 4.0111e-06\n",
            "Epoch 38/100\n",
            "1/1 [==============================] - 0s 2ms/step - loss: 3.6114e-06\n",
            "Epoch 39/100\n",
            "1/1 [==============================] - 0s 2ms/step - loss: 6.0381e-06\n",
            "Epoch 40/100\n",
            "1/1 [==============================] - 0s 1ms/step - loss: 6.1617e-06\n",
            "Epoch 41/100\n",
            "1/1 [==============================] - 0s 1ms/step - loss: 3.2371e-06\n",
            "Epoch 42/100\n",
            "1/1 [==============================] - 0s 2ms/step - loss: 1.8354e-06\n",
            "Epoch 43/100\n",
            "1/1 [==============================] - 0s 1ms/step - loss: 1.0242e-06\n",
            "Epoch 44/100\n",
            "1/1 [==============================] - 0s 2ms/step - loss: 6.6893e-07\n",
            "Epoch 45/100\n",
            "1/1 [==============================] - 0s 2ms/step - loss: 4.6438e-07\n",
            "Epoch 46/100\n",
            "1/1 [==============================] - 0s 4ms/step - loss: 3.8260e-07\n",
            "Epoch 47/100\n",
            "1/1 [==============================] - 0s 1ms/step - loss: 3.6150e-07\n",
            "Epoch 48/100\n",
            "1/1 [==============================] - 0s 2ms/step - loss: 4.2957e-07\n",
            "Epoch 49/100\n",
            "1/1 [==============================] - 0s 4ms/step - loss: 5.8519e-07\n",
            "Epoch 50/100\n",
            "1/1 [==============================] - 0s 2ms/step - loss: 9.4774e-07\n",
            "Epoch 51/100\n",
            "1/1 [==============================] - 0s 2ms/step - loss: 1.5382e-06\n",
            "Epoch 52/100\n",
            "1/1 [==============================] - 0s 2ms/step - loss: 2.5682e-06\n",
            "Epoch 53/100\n",
            "1/1 [==============================] - 0s 1ms/step - loss: 3.3791e-06\n",
            "Epoch 54/100\n",
            "1/1 [==============================] - 0s 1ms/step - loss: 4.0182e-06\n",
            "Epoch 55/100\n",
            "1/1 [==============================] - 0s 2ms/step - loss: 3.3410e-06\n",
            "Epoch 56/100\n",
            "1/1 [==============================] - 0s 2ms/step - loss: 2.8592e-06\n",
            "Epoch 57/100\n",
            "1/1 [==============================] - 0s 2ms/step - loss: 2.0145e-06\n",
            "Epoch 58/100\n",
            "1/1 [==============================] - 0s 2ms/step - loss: 1.6663e-06\n",
            "Epoch 59/100\n",
            "1/1 [==============================] - 0s 1ms/step - loss: 1.3171e-06\n",
            "Epoch 60/100\n",
            "1/1 [==============================] - 0s 2ms/step - loss: 1.2547e-06\n",
            "Epoch 61/100\n",
            "1/1 [==============================] - 0s 2ms/step - loss: 1.2041e-06\n",
            "Epoch 62/100\n",
            "1/1 [==============================] - 0s 11ms/step - loss: 1.3675e-06\n",
            "Epoch 63/100\n",
            "1/1 [==============================] - 0s 2ms/step - loss: 1.5417e-06\n",
            "Epoch 64/100\n",
            "1/1 [==============================] - 0s 1ms/step - loss: 1.9724e-06\n",
            "Epoch 65/100\n",
            "1/1 [==============================] - 0s 2ms/step - loss: 2.3367e-06\n",
            "Epoch 66/100\n",
            "1/1 [==============================] - 0s 1ms/step - loss: 2.9692e-06\n",
            "Epoch 67/100\n",
            "1/1 [==============================] - 0s 1ms/step - loss: 3.1952e-06\n",
            "Epoch 68/100\n",
            "1/1 [==============================] - 0s 1ms/step - loss: 3.6767e-06\n",
            "Epoch 69/100\n",
            "1/1 [==============================] - 0s 2ms/step - loss: 3.5562e-06\n",
            "Epoch 70/100\n",
            "1/1 [==============================] - 0s 2ms/step - loss: 3.7929e-06\n",
            "Epoch 71/100\n",
            "1/1 [==============================] - 0s 7ms/step - loss: 3.1817e-06\n",
            "Epoch 72/100\n",
            "1/1 [==============================] - 0s 1ms/step - loss: 2.7976e-06\n",
            "Epoch 73/100\n",
            "1/1 [==============================] - 0s 2ms/step - loss: 2.0302e-06\n",
            "Epoch 74/100\n",
            "1/1 [==============================] - 0s 2ms/step - loss: 1.6754e-06\n",
            "Epoch 75/100\n",
            "1/1 [==============================] - 0s 2ms/step - loss: 1.3195e-06\n",
            "Epoch 76/100\n",
            "1/1 [==============================] - 0s 2ms/step - loss: 1.2418e-06\n",
            "Epoch 77/100\n",
            "1/1 [==============================] - 0s 2ms/step - loss: 1.2120e-06\n",
            "Epoch 78/100\n",
            "1/1 [==============================] - 0s 2ms/step - loss: 1.4793e-06\n",
            "Epoch 79/100\n",
            "1/1 [==============================] - 0s 2ms/step - loss: 2.0539e-06\n",
            "Epoch 80/100\n",
            "1/1 [==============================] - 0s 1ms/step - loss: 3.7221e-06\n",
            "Epoch 81/100\n",
            "1/1 [==============================] - 0s 1ms/step - loss: 6.0109e-06\n",
            "Epoch 82/100\n",
            "1/1 [==============================] - 0s 1ms/step - loss: 7.6179e-06\n",
            "Epoch 83/100\n",
            "1/1 [==============================] - 0s 2ms/step - loss: 5.6071e-06\n",
            "Epoch 84/100\n",
            "1/1 [==============================] - 0s 1ms/step - loss: 4.1984e-06\n",
            "Epoch 85/100\n",
            "1/1 [==============================] - 0s 2ms/step - loss: 2.8398e-06\n",
            "Epoch 86/100\n",
            "1/1 [==============================] - 0s 2ms/step - loss: 2.3038e-06\n",
            "Epoch 87/100\n",
            "1/1 [==============================] - 0s 1ms/step - loss: 1.9596e-06\n",
            "Epoch 88/100\n",
            "1/1 [==============================] - 0s 1ms/step - loss: 1.8800e-06\n",
            "Epoch 89/100\n",
            "1/1 [==============================] - 0s 1ms/step - loss: 1.9205e-06\n",
            "Epoch 90/100\n",
            "1/1 [==============================] - 0s 1ms/step - loss: 2.0578e-06\n",
            "Epoch 91/100\n",
            "1/1 [==============================] - 0s 1ms/step - loss: 2.3296e-06\n",
            "Epoch 92/100\n",
            "1/1 [==============================] - 0s 1ms/step - loss: 2.5908e-06\n",
            "Epoch 93/100\n",
            "1/1 [==============================] - 0s 2ms/step - loss: 2.9419e-06\n",
            "Epoch 94/100\n",
            "1/1 [==============================] - 0s 1ms/step - loss: 2.9387e-06\n",
            "Epoch 95/100\n",
            "1/1 [==============================] - 0s 3ms/step - loss: 2.9315e-06\n",
            "Epoch 96/100\n",
            "1/1 [==============================] - 0s 2ms/step - loss: 2.5567e-06\n",
            "Epoch 97/100\n",
            "1/1 [==============================] - 0s 2ms/step - loss: 2.4985e-06\n",
            "Epoch 98/100\n",
            "1/1 [==============================] - 0s 2ms/step - loss: 2.4642e-06\n",
            "Epoch 99/100\n",
            "1/1 [==============================] - 0s 1ms/step - loss: 3.1986e-06\n",
            "Epoch 100/100\n",
            "1/1 [==============================] - 0s 1ms/step - loss: 4.3047e-06\n",
            "CPU times: user 6.95 s, sys: 484 ms, total: 7.44 s\n",
            "Wall time: 6.61 s\n"
          ],
          "name": "stdout"
        }
      ]
    },
    {
      "cell_type": "code",
      "metadata": {
        "id": "iIEqX6NGAcjr",
        "colab": {
          "base_uri": "https://localhost:8080/",
          "height": 264
        },
        "outputId": "c4b2bd49-3739-4681-94be-2801e3885559"
      },
      "source": [
        "#  Plot loss function\n",
        "pd.Series(history.history['loss']).plot(figsize=(14, 4));"
      ],
      "execution_count": 11,
      "outputs": [
        {
          "output_type": "display_data",
          "data": {
            "image/png": "[encoded data removed]",
            "text/plain": [
              "<Figure size 1008x288 with 1 Axes>"
            ]
          },
          "metadata": {
            "tags": [],
            "needs_background": "light"
          }
        }
      ]
    },
    {
      "cell_type": "markdown",
      "metadata": {
        "id": "Y6Kwql2KAcj3"
      },
      "source": [
        "## Make Predictions"
      ]
    },
    {
      "cell_type": "code",
      "metadata": {
        "id": "O_cedwgTAcj5",
        "colab": {
          "base_uri": "https://localhost:8080/"
        },
        "outputId": "c34e9414-8f8e-43b8-fe1a-f13b4944095f"
      },
      "source": [
        "#  Make predictions using X_train data\n",
        "predictions = model.predict(x=X_train)[0]\n",
        "predictions"
      ],
      "execution_count": 12,
      "outputs": [
        {
          "output_type": "execute_result",
          "data": {
            "text/plain": [
              "array([-0.00160206,  0.01887886,  0.06676927,  0.05151446,  0.0578515 ,\n",
              "        0.07809077,  0.02349788], dtype=float32)"
            ]
          },
          "metadata": {
            "tags": []
          },
          "execution_count": 12
        }
      ]
    },
    {
      "cell_type": "code",
      "metadata": {
        "id": "6rmtnlzvAckF"
      },
      "source": [
        "def denormalize(series, last_value):\n",
        "    \"\"\"Denormalize the values for a given series.\n",
        "    \n",
        "    This uses the last value available (i.e. the last\n",
        "    closing price of the week before our prediction)\n",
        "    as a reference for scaling the predicted results.\n",
        "    \"\"\"\n",
        "    result = last_value * (series + 1)\n",
        "    return result"
      ],
      "execution_count": 13,
      "outputs": []
    },
    {
      "cell_type": "code",
      "metadata": {
        "id": "GwtcyIuvAckQ",
        "colab": {
          "base_uri": "https://localhost:8080/"
        },
        "outputId": "77ed7068-8b60-4cf2-84ff-d625c43cd49a"
      },
      "source": [
        "#  Denormalize predictions\n",
        "last_weeks_value = train[train['date'] == train['date'][:-7].max()]['close'].values[0]\n",
        "\n",
        "denormalized_prediction = denormalize(predictions, last_weeks_value)\n",
        "denormalized_prediction"
      ],
      "execution_count": 14,
      "outputs": [
        {
          "output_type": "execute_result",
          "data": {
            "text/plain": [
              "array([2651.625 , 2706.0198, 2833.211 , 2792.6963, 2809.5266, 2863.2795,\n",
              "       2718.2874], dtype=float32)"
            ]
          },
          "metadata": {
            "tags": []
          },
          "execution_count": 14
        }
      ]
    },
    {
      "cell_type": "code",
      "metadata": {
        "id": "DTybhOl9Acka",
        "colab": {
          "base_uri": "https://localhost:8080/",
          "height": 262
        },
        "outputId": "9abb7dcf-90a9-4e5d-a111-54674e41b8e8"
      },
      "source": [
        "#  Plot denormalized predictions against actual predictions\n",
        "plt.figure(figsize=(14, 4))\n",
        "\n",
        "plt.plot(train['close'][-7:].values, label='Actual')\n",
        "plt.plot(denormalized_prediction, color='#d35400', label='Predicted')\n",
        "\n",
        "plt.grid()\n",
        "plt.legend();"
      ],
      "execution_count": 15,
      "outputs": [
        {
          "output_type": "display_data",
          "data": {
            "image/png": "[encoded data removed]",
            "text/plain": [
              "<Figure size 1008x288 with 1 Axes>"
            ]
          },
          "metadata": {
            "tags": [],
            "needs_background": "light"
          }
        }
      ]
    },
    {
      "cell_type": "code",
      "metadata": {
        "id": "ACtBFvZeAckl",
        "colab": {
          "base_uri": "https://localhost:8080/",
          "height": 265
        },
        "outputId": "d20e0a57-da97-4ac6-c935-09e84698b7cc"
      },
      "source": [
        "prediction_plot = np.zeros(len(train)-2)\n",
        "prediction_plot[:] = np.nan\n",
        "prediction_plot[-7:] = denormalized_prediction\n",
        "\n",
        "plt.figure(figsize=(14, 4))\n",
        "plt.plot(train['close'][-30:].values, label='Actual')\n",
        "plt.plot(prediction_plot[-30:], color='#d35400', linestyle='--', label='Predicted')\n",
        "plt.axvline(30 - 7, color='r', linestyle='--', linewidth=1)\n",
        "\n",
        "plt.grid()\n",
        "plt.legend(loc='lower right');"
      ],
      "execution_count": 16,
      "outputs": [
        {
          "output_type": "display_data",
          "data": {
            "image/png": "[encoded data removed]",
            "text/plain": [
              "<Figure size 1008x288 with 1 Axes>"
            ]
          },
          "metadata": {
            "tags": [],
            "needs_background": "light"
          }
        }
      ]
    },
    {
      "cell_type": "code",
      "metadata": {
        "eid": "8ce0c2",
        "id": "e5cT6K6KAckw"
      },
      "source": [
        "#  TASK:\n",
        "#  Save model to disk\n",
        "train.to_csv('train_dataset1.csv',index = False)\n",
        "model.save('bitcoin_lstm_v0_trained.h5')"
      ],
      "execution_count": 17,
      "outputs": []
    },
    {
      "cell_type": "markdown",
      "metadata": {
        "id": "09JSLrp6Ack9"
      },
      "source": [
        "In this activity, we have assembled a complete deep learning system: from data to prediction. The model created in this activity need a number of improvements before it can be considered useful. However, it serves as a great starting point from which we will continuously improve."
      ]
    }
  ]
}