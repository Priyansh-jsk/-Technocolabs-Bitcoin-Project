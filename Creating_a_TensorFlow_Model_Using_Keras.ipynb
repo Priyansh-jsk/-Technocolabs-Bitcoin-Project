{
  "nbformat": 4,
  "nbformat_minor": 0,
  "metadata": {
    "kernelspec": {
      "display_name": "Python 3",
      "language": "python",
      "name": "python3"
    },
    "language_info": {
      "codemirror_mode": {
        "name": "ipython",
        "version": 3
      },
      "file_extension": ".py",
      "mimetype": "text/x-python",
      "name": "python",
      "nbconvert_exporter": "python",
      "pygments_lexer": "ipython3",
      "version": "3.6.6"
    },
    "colab": {
      "name": "Creating_a_TensorFlow_Model_Using_Keras.ipynb",
      "provenance": [],
      "collapsed_sections": [],
      "toc_visible": true
    }
  },
  "cells": [
    {
      "cell_type": "markdown",
      "metadata": {
        "id": "1rJ-daJxAaXC"
      },
      "source": [
        "# Activity 4: Creating a TensorFlow Model using Keras\n",
        "In this notebook we design and compile a deep learning model using Keras as an interface to TensorFlow. We will continue to modify this model in our next lessons and activities by experimenting with different optimization techniques. However, the essential components of the model are entirely designed in this notebook."
      ]
    },
    {
      "cell_type": "markdown",
      "metadata": {
        "id": "CZvEZ5pFAaXE"
      },
      "source": [
        "## Building a Model"
      ]
    },
    {
      "cell_type": "code",
      "metadata": {
        "id": "gywlY7b0AaXF",
        "colab": {
          "base_uri": "https://localhost:8080/",
          "height": 34
        },
        "outputId": "97a05110-4247-4775-82c1-2cf01c94e414"
      },
      "source": [
        "%autosave 5\n",
        "\n",
        "from keras.models import Sequential\n",
        "from keras.layers.recurrent import LSTM\n",
        "from keras.layers.core import Dense, Activation"
      ],
      "execution_count": 1,
      "outputs": [
        {
          "output_type": "display_data",
          "data": {
            "application/javascript": [
              "IPython.notebook.set_autosave_interval(5000)"
            ]
          },
          "metadata": {
            "tags": []
          }
        },
        {
          "output_type": "stream",
          "text": [
            "Autosaving every 5 seconds\n"
          ],
          "name": "stdout"
        }
      ]
    },
    {
      "cell_type": "code",
      "metadata": {
        "eid": "0ccaa6",
        "id": "3Za8QXwOAaXM"
      },
      "source": [
        "#  TASK:\n",
        "#  Define `period_length`\n",
        "period_length = 7"
      ],
      "execution_count": 2,
      "outputs": []
    },
    {
      "cell_type": "code",
      "metadata": {
        "eid": "90e207",
        "id": "PJJFcCJMAaXT"
      },
      "source": [
        "#  TASK:\n",
        "#  Define `number_of_periods`\n",
        "number_of_periods = 76"
      ],
      "execution_count": 3,
      "outputs": []
    },
    {
      "cell_type": "code",
      "metadata": {
        "id": "c8eYysS8AaXZ"
      },
      "source": [
        "def build_model(period_length, number_of_periods, batch_size=1):\n",
        "    \"\"\"Build an LSTM model using Keras.\n",
        "\n",
        "    Parameters\n",
        "    ----------\n",
        "    period_length: int\n",
        "        The size of each observation used as input.\n",
        "\n",
        "    number_of_periods: int\n",
        "        The number of periods available in the\n",
        "        dataset.\n",
        "\n",
        "    batch_size: int\n",
        "        The size of the batch used in each training\n",
        "        period.\n",
        "\n",
        "    Returns\n",
        "    -------\n",
        "    model: Keras model\n",
        "        Compiled Keras model that can be trained\n",
        "        and stored in disk.\n",
        "    \"\"\"\n",
        "    model = Sequential()\n",
        "    model.add(LSTM(\n",
        "        units=period_length,\n",
        "        batch_input_shape=(batch_size, number_of_periods, period_length),\n",
        "        input_shape=(number_of_periods, period_length),\n",
        "        return_sequences=False, stateful=False))\n",
        "\n",
        "    model.add(Dense(units=period_length))\n",
        "    model.add(Activation(\"linear\"))\n",
        "\n",
        "    model.compile(loss=\"mse\", optimizer=\"rmsprop\")\n",
        "\n",
        "    return model"
      ],
      "execution_count": 4,
      "outputs": []
    },
    {
      "cell_type": "markdown",
      "metadata": {
        "id": "JQ51w6dtAaXf"
      },
      "source": [
        "The steps above compile the LSTM model as TensorFlow computation graph. We can now train that model using our train and evaluate its results with our test set."
      ]
    },
    {
      "cell_type": "markdown",
      "metadata": {
        "id": "l_pdmFZtAaXg"
      },
      "source": [
        "## Saving Model"
      ]
    },
    {
      "cell_type": "code",
      "metadata": {
        "id": "belUomLgAaXh"
      },
      "source": [
        "model = build_model(period_length=period_length, number_of_periods=number_of_periods)"
      ],
      "execution_count": 5,
      "outputs": []
    },
    {
      "cell_type": "code",
      "metadata": {
        "id": "NXEjFN17AaXo"
      },
      "source": [
        "model.save('/content/bitcoin_lstm_v0.h5')"
      ],
      "execution_count": 6,
      "outputs": []
    }
  ]
}